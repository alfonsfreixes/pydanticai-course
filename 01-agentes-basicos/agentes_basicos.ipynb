{
 "cells": [
  {
   "cell_type": "markdown",
   "id": "9a55fe61",
   "metadata": {},
   "source": [
    "# Agentes básicos con PydanticAI"
   ]
  },
  {
   "cell_type": "code",
   "execution_count": null,
   "id": "f009a750",
   "metadata": {},
   "outputs": [
    {
     "name": "stdout",
     "output_type": "stream",
     "text": [
      "Agentes básicos de IA\n"
     ]
    }
   ],
   "source": [
    "print(\"Agentes básicos de IA\")"
   ]
  }
 ],
 "metadata": {
  "kernelspec": {
   "display_name": "Python 3",
   "language": "python",
   "name": "python3"
  },
  "language_info": {
   "codemirror_mode": {
    "name": "ipython",
    "version": 3
   },
   "file_extension": ".py",
   "mimetype": "text/x-python",
   "name": "python",
   "nbconvert_exporter": "python",
   "pygments_lexer": "ipython3",
   "version": "3.11.13"
  }
 },
 "nbformat": 4,
 "nbformat_minor": 5
}
