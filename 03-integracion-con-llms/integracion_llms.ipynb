{
 "cells": [
  {
   "cell_type": "markdown",
   "id": "6104c4f0",
   "metadata": {},
   "source": [
    "# Integración con modelos LLM"
   ]
  },
  {
   "cell_type": "code",
   "execution_count": 2,
   "id": "f8729f0c",
   "metadata": {},
   "outputs": [
    {
     "name": "stdout",
     "output_type": "stream",
     "text": [
      "Integración con LLMs\n"
     ]
    }
   ],
   "source": [
    "print(\"Integración con LLMs\")"
   ]
  }
 ],
 "metadata": {
  "kernelspec": {
   "display_name": "Python 3",
   "language": "python",
   "name": "python3"
  },
  "language_info": {
   "codemirror_mode": {
    "name": "ipython",
    "version": 3
   },
   "file_extension": ".py",
   "mimetype": "text/x-python",
   "name": "python",
   "nbconvert_exporter": "python",
   "pygments_lexer": "ipython3",
   "version": "3.11.13"
  }
 },
 "nbformat": 4,
 "nbformat_minor": 5
}
